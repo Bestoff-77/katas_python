{
  "cells": [
    {
      "cell_type": "markdown",
      "metadata": {},
      "source": [
        "# Ejercicio - Escribir declaraciones `if`, `else`, y `elif`\n",
        "\n",
        "Las instrucciones `If` te permiten ejecutar condicionalmente código Python. Se usan comúnmente en Python para \"tomar decisiones\" sobre lo que debería suceder a continuación mientras se ejecuta un programa.\n",
        "\n",
        "Para crear una instrucción `if` en Python, define una expresión de prueba que pueda tener un valor `True` o `False`, seguido de un bloque de código con sangría que se ejecutará si se cumple la condición.  \n",
        "\n",
        "```python\n",
        "if expresion_prueba:\n",
        "    # intrucción(es) a ejecutar\n",
        "```\n",
        "\n",
        "Para escribir un programa con una lógica condicional más compleja, puedes agregar instrucciones `else` y `elif` al bloque de código. También puedes anidar instrucciones condicionales. \n",
        "\n",
        "\n",
        "```python\n",
        "if expresion_prueba:\n",
        "    # intrucción(es) a ejecutar\n",
        "    if expresion_prueba:\n",
        "        # intrucción(es) a ejecutar\n",
        "    else: \n",
        "        # intrucción(es) a ejecutar\n",
        "elif expresion_prueba:\n",
        "    # intrucción(es) a ejecutar\n",
        "else:\n",
        "    # intrucción(es) a ejecutar\n",
        "```\n",
        "\n",
        "> **TIP**\n",
        "> Dedica unos minutos a tratar de encontrar una solución. Luego desplázate hacia abajo hasta la parte inferior para ver si has logrado compilar el programa de acuerdo con las especificaciones.\n",
        "\n",
        "Para este ejercicio, escribirás una lógica condicional que imprima una advertencia si un asteroide se acerca a la Tierra demasiado rápido. La velocidad del asteroide varía dependiendo de lo cerca que esté del sol, y cualquier velocidad superior a 25 kilómetros por segundo (km/s) merece una advertencia.\n",
        "\n",
        "Un asteroide se acerca, y viaja a una velocidad de 49 km/s."
      ]
    },
    {
      "cell_type": "code",
      "execution_count": 5,
      "metadata": {},
      "outputs": [
        {
          "name": "stdout",
          "output_type": "stream",
          "text": [
            "alerta\n"
          ]
        }
      ],
      "source": [
        "# Añadir el código necesario para crear una variable que guarde la velocidad del asteroide.\n",
        "# Escribe una expresión de prueba para calcular si necesita una advertencia.\n",
        "# Agregue las instrucciones que se ejecutarán si la expresión de prueba es true o false.\n",
        "asteroide = 70\n",
        "    \n",
        "if asteroide < 25:\n",
        "    print(\"no hay problema\")\n",
        "else:\n",
        "    print(\"alerta\")"
      ]
    },
    {
      "cell_type": "markdown",
      "metadata": {},
      "source": [
        "Si un asteroide entra en la atmósfera de la Tierra a una velocidad mayor o igual a 20 km/s, a veces produce un rayo de luz que se puede ver desde la Tierra. Escribe la lógica condicional que usa declaraciones `if`, `else`, y `elif` para alertar a las personas de todo el mundo que deben buscar un asteroide en el cielo. ¡Hay uno que se dirige a la tierra ahora a una velocidad de 19 km/s!"
      ]
    },
    {
      "cell_type": "code",
      "execution_count": 9,
      "metadata": {},
      "outputs": [
        {
          "name": "stdout",
          "output_type": "stream",
          "text": [
            "no miren arriba\n"
          ]
        }
      ],
      "source": [
        "# Agrega el código para crear una variable para un asteroide que viaja a 19 km/s\n",
        "# Escribe varias expresiones de prueba para determinar si puedes ver el rayo de luz desde la tierra\n",
        "# Agrega las instrucciones que se ejecutarán si las expresiones de prueba son True o False\n",
        "\n",
        "velocidad = 19\n",
        "\n",
        "if velocidad >= 20:\n",
        "    print(\"miren arriba\")\n",
        "    \n",
        "elif velocidad < 20:\n",
        "    print(\"no miren arriba\")\n",
        "\n",
        "else:\n",
        "    (\"todo en calma\")"
      ]
    },
    {
      "cell_type": "markdown",
      "metadata": {},
      "source": [
        "# Ejercicio: Uso de operadores `and` y `or` \n",
        "\n",
        "En el ejercicio anterior, trabajó con sentencias `if`, `else`, y `elif` para escribir programas con lógica condicional compleja. Para crear expresiones booleanas aún más interesantes, puede usar los operadores `and` y `or` en Python.\n",
        "\n",
        "Las expresiones `and` son sólo si ambas subexpresiones son verdaderas.\n",
        "\n",
        "`expresión1 and expresión2`\n",
        "\n",
        "Las expresiones `or` son `True` si *al menos una* subexpresión es verdadera.\n",
        "\n",
        "`expresión1 or expresión2`\n",
        "\n",
        "En este ejercicio, aprenderás información más matizada sobre cuándo los asteroides representan un peligro para la Tierra, y utilizarás esa información para mejorar nuestro sistema de advertencia. Aquí está la nueva información que necesitas saber:\n",
        "\n",
        "*Los asteroides de menos de 25 metros en su dimensión más grande probablemente se quemarán a medida que entren en la atmósfera de la Tierra.\n",
        "* Si una pieza de un asteroide que es más grande que 25 metros pero más pequeña que 1000 metros golpeara la Tierra, causaría mucho daño.\n",
        "\n",
        "También discutimos en el ejercicio anterior que:\n",
        "\n",
        "* La velocidad del asteroide varía en función de lo cerca que esté del sol, y cualquier velocidad superior a 25 kilómetros por segundo (km/s) merece una advertencia.\n",
        "* Si un asteroide entra en la atmósfera de la Tierra a una velocidad mayor o igual a 20 km/s, a veces produce un rayo de luz que se puede ver desde la Tierra.\n",
        "\n",
        "Usando toda esta información, escribe un programa que emita la advertencia o información correcta a la gente de la Tierra, según la velocidad y el tamaño de un asteroide. Utiliza instrucciones `if`, `else`, y `elif`, así como los operadores `and` y `or`."
      ]
    },
    {
      "cell_type": "code",
      "execution_count": 14,
      "metadata": {},
      "outputs": [
        {
          "name": "stdout",
          "output_type": "stream",
          "text": [
            "Alerta, peligro de destruccion masiva!\n"
          ]
        }
      ],
      "source": [
        "# Agrega el código para crear nuevas variables para la velocidad y el tamaño del asteroide\n",
        "# Para probar el código, prueba con varias velocidades y tamaños\n",
        "# Escribe varias expresiones de prueba o combinaciones de expresiones de prueba para determinar qué mensaje se debe enviar a Tierra.\n",
        "\n",
        "velocidad = 26\n",
        "tamaño = 30\n",
        "\n",
        "if velocidad > 25 and tamaño > 25:\n",
        "    print(\"Alerta, peligro de destruccion masiva!\")\n",
        "elif velocidad == 20:\n",
        "    print(\"miren arriba\")\n",
        "elif tamaño >= 25:\n",
        "    print(\"alerta\")\n",
        "elif velocidad == 20 and tamaño <= 25:\n",
        "    print(\"miren la luz en el cielo y disfruten que no pasa nada\")\n",
        "\n",
        "else:\n",
        "    print(\"Alarma falsa\") "
      ]
    },
    {
      "cell_type": "markdown",
      "metadata": {},
      "source": [
        "## Soluciones"
      ]
    },
    {
      "cell_type": "markdown",
      "metadata": {},
      "source": [
        "#### Problema No. 1"
      ]
    },
    {
      "cell_type": "code",
      "execution_count": null,
      "metadata": {},
      "outputs": [],
      "source": [
        "# Añadir el código necesario para crear una variable que guarde la velocidad del asteroide.\n",
        "# Escribe una expresión de prueba para calcular si necesita una advertencia.\n",
        "# Agregue las instrucciones que se ejecutarán si la expresión de prueba es true o false.\n",
        "\n",
        "asteroide = 49\n",
        "if asteroide > 25:\n",
        "    print('¡Alerta! ¡Un asteroide se acerca a velocidades peligrosas!')\n",
        "else:\n",
        "    print('¡Sigue con tu día!')"
      ]
    },
    {
      "cell_type": "markdown",
      "metadata": {},
      "source": [
        "#### Problema No. 2"
      ]
    },
    {
      "cell_type": "code",
      "execution_count": null,
      "metadata": {},
      "outputs": [],
      "source": [
        "# Agrega el código para crear una variable para un asteroide que viaja a 19 km/s\n",
        "# Escribe varias expresiones de prueba para determinar si puedes ver el rayo de luz desde la tierra\n",
        "# Agrega las instrucciones que se ejecutarán si las expresiones de prueba son True o False\n",
        "\n",
        "asteroide = 19\n",
        "if asteroide > 20:\n",
        "    print('Look up! ¡Hay una luz mágica en el cielo!')\n",
        "elif asteroide == 20:\n",
        "    print('Look up! ¡Hay una luz mágica en el cielo!')\n",
        "else:\n",
        "    print('¡Nada que ver aquí!')"
      ]
    },
    {
      "cell_type": "markdown",
      "metadata": {},
      "source": [
        "#### Problema No. 3"
      ]
    },
    {
      "cell_type": "code",
      "execution_count": null,
      "metadata": {},
      "outputs": [],
      "source": [
        "# Agrega el código para crear nuevas variables para la velocidad y el tamaño del asteroide\n",
        "# Para probar el código, prueba con varias velocidades y tamaños\n",
        "# Escribe varias expresiones de prueba o combinaciones de expresiones de prueba para determinar qué mensaje se debe enviar a Tierra.\n",
        "\n",
        "velocidad_asteroide = 25\n",
        "tamano_asteroide = 40\n",
        "if velocidad_asteroide > 25 and tamano_asteroide > 25:\n",
        "    print('¡Alerta, Un asteroide muy peligroso viene hacia la Tierra!')\n",
        "elif velocidad_asteroide >= 20:\n",
        "    print('Look up! ¡Hay una luz mágica en el cielo!')\n",
        "elif tamano_asteroide < 25:\n",
        "    print('Nada que ver aquí :)')\n",
        "else:\n",
        "    print('Nada que ver aquí :)')"
      ]
    },
    {
      "cell_type": "markdown",
      "metadata": {},
      "source": [
        "Curso Propedútico de Python para Launch X - Innovacción Virtual.\n",
        "\n",
        "Material desarrollado con base en los contenidos de MSLearn y la metáfora de LaunchX, traducción e implementación por: Fernanda Ochoa - Learning Producer de LaunchX.\n",
        "\n",
        "Redes:\n",
        "* GitHub: [FernandaOchoa](https://github.com/FernandaOchoa)\n",
        "* Twitter: [@imonsh](https://twitter.com/imonsh)\n",
        "* Instagram: [fherz8a](https://www.instagram.com/fherz8a/)"
      ]
    }
  ],
  "metadata": {
    "interpreter": {
      "hash": "916dbcbb3f70747c44a77c7bcd40155683ae19c65e1c03b4aa3499c5328201f1"
    },
    "kernel_info": {
      "name": "conda-env-py37_default-py"
    },
    "kernelspec": {
      "display_name": "py37_default",
      "language": "python",
      "name": "python3"
    },
    "language_info": {
      "codemirror_mode": {
        "name": "ipython",
        "version": 3
      },
      "file_extension": ".py",
      "mimetype": "text/x-python",
      "name": "python",
      "nbconvert_exporter": "python",
      "pygments_lexer": "ipython3",
      "version": "3.9.5"
    },
    "nteract": {
      "version": "nteract-front-end@1.0.0"
    },
    "orig_nbformat": 4
  },
  "nbformat": 4,
  "nbformat_minor": 2
}
